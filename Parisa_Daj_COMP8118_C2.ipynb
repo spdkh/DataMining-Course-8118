{
  "nbformat": 4,
  "nbformat_minor": 0,
  "metadata": {
    "colab": {
      "provenance": [],
      "collapsed_sections": [],
      "authorship_tag": "ABX9TyPQ7GDemyOUflqVkHuDZW5t",
      "include_colab_link": true
    },
    "kernelspec": {
      "name": "python3",
      "display_name": "Python 3"
    },
    "language_info": {
      "name": "python"
    }
  },
  "cells": [
    {
      "cell_type": "markdown",
      "metadata": {
        "id": "view-in-github",
        "colab_type": "text"
      },
      "source": [
        "<a href=\"https://colab.research.google.com/github/spdkh/DataMining-Course-8118/blob/master/Parisa_Daj_COMP8118_C2.ipynb\" target=\"_parent\"><img src=\"https://colab.research.google.com/assets/colab-badge.svg\" alt=\"Open In Colab\"/></a>"
      ]
    },
    {
      "cell_type": "code",
      "source": [
        "import os\n",
        "import sys\n",
        "import shutil\n",
        "from google.colab import files\n",
        "\n",
        "from matplotlib import pyplot as plt\n",
        "import numpy as np\n",
        "import pandas as pd\n",
        "from scipy.spatial.distance import cdist\n",
        "from scipy.spatial.distance import squareform\n",
        "from mlxtend.frequent_patterns import apriori, association_rules\n"
      ],
      "metadata": {
        "id": "Jwcf28OpQKNi"
      },
      "execution_count": 359,
      "outputs": []
    },
    {
      "cell_type": "code",
      "source": [
        "# upload images\n",
        "uploaded = files.upload()"
      ],
      "metadata": {
        "colab": {
          "base_uri": "https://localhost:8080/",
          "height": 74
        },
        "id": "K3e4VT8mnVYr",
        "outputId": "a0a5e255-4470-49d6-c960-407c41f831ea"
      },
      "execution_count": 387,
      "outputs": [
        {
          "output_type": "display_data",
          "data": {
            "text/plain": [
              "<IPython.core.display.HTML object>"
            ],
            "text/html": [
              "\n",
              "     <input type=\"file\" id=\"files-42796067-8151-44fa-8ee2-cf8efaff964b\" name=\"files[]\" multiple disabled\n",
              "        style=\"border:none\" />\n",
              "     <output id=\"result-42796067-8151-44fa-8ee2-cf8efaff964b\">\n",
              "      Upload widget is only available when the cell has been executed in the\n",
              "      current browser session. Please rerun this cell to enable.\n",
              "      </output>\n",
              "      <script>// Copyright 2017 Google LLC\n",
              "//\n",
              "// Licensed under the Apache License, Version 2.0 (the \"License\");\n",
              "// you may not use this file except in compliance with the License.\n",
              "// You may obtain a copy of the License at\n",
              "//\n",
              "//      http://www.apache.org/licenses/LICENSE-2.0\n",
              "//\n",
              "// Unless required by applicable law or agreed to in writing, software\n",
              "// distributed under the License is distributed on an \"AS IS\" BASIS,\n",
              "// WITHOUT WARRANTIES OR CONDITIONS OF ANY KIND, either express or implied.\n",
              "// See the License for the specific language governing permissions and\n",
              "// limitations under the License.\n",
              "\n",
              "/**\n",
              " * @fileoverview Helpers for google.colab Python module.\n",
              " */\n",
              "(function(scope) {\n",
              "function span(text, styleAttributes = {}) {\n",
              "  const element = document.createElement('span');\n",
              "  element.textContent = text;\n",
              "  for (const key of Object.keys(styleAttributes)) {\n",
              "    element.style[key] = styleAttributes[key];\n",
              "  }\n",
              "  return element;\n",
              "}\n",
              "\n",
              "// Max number of bytes which will be uploaded at a time.\n",
              "const MAX_PAYLOAD_SIZE = 100 * 1024;\n",
              "\n",
              "function _uploadFiles(inputId, outputId) {\n",
              "  const steps = uploadFilesStep(inputId, outputId);\n",
              "  const outputElement = document.getElementById(outputId);\n",
              "  // Cache steps on the outputElement to make it available for the next call\n",
              "  // to uploadFilesContinue from Python.\n",
              "  outputElement.steps = steps;\n",
              "\n",
              "  return _uploadFilesContinue(outputId);\n",
              "}\n",
              "\n",
              "// This is roughly an async generator (not supported in the browser yet),\n",
              "// where there are multiple asynchronous steps and the Python side is going\n",
              "// to poll for completion of each step.\n",
              "// This uses a Promise to block the python side on completion of each step,\n",
              "// then passes the result of the previous step as the input to the next step.\n",
              "function _uploadFilesContinue(outputId) {\n",
              "  const outputElement = document.getElementById(outputId);\n",
              "  const steps = outputElement.steps;\n",
              "\n",
              "  const next = steps.next(outputElement.lastPromiseValue);\n",
              "  return Promise.resolve(next.value.promise).then((value) => {\n",
              "    // Cache the last promise value to make it available to the next\n",
              "    // step of the generator.\n",
              "    outputElement.lastPromiseValue = value;\n",
              "    return next.value.response;\n",
              "  });\n",
              "}\n",
              "\n",
              "/**\n",
              " * Generator function which is called between each async step of the upload\n",
              " * process.\n",
              " * @param {string} inputId Element ID of the input file picker element.\n",
              " * @param {string} outputId Element ID of the output display.\n",
              " * @return {!Iterable<!Object>} Iterable of next steps.\n",
              " */\n",
              "function* uploadFilesStep(inputId, outputId) {\n",
              "  const inputElement = document.getElementById(inputId);\n",
              "  inputElement.disabled = false;\n",
              "\n",
              "  const outputElement = document.getElementById(outputId);\n",
              "  outputElement.innerHTML = '';\n",
              "\n",
              "  const pickedPromise = new Promise((resolve) => {\n",
              "    inputElement.addEventListener('change', (e) => {\n",
              "      resolve(e.target.files);\n",
              "    });\n",
              "  });\n",
              "\n",
              "  const cancel = document.createElement('button');\n",
              "  inputElement.parentElement.appendChild(cancel);\n",
              "  cancel.textContent = 'Cancel upload';\n",
              "  const cancelPromise = new Promise((resolve) => {\n",
              "    cancel.onclick = () => {\n",
              "      resolve(null);\n",
              "    };\n",
              "  });\n",
              "\n",
              "  // Wait for the user to pick the files.\n",
              "  const files = yield {\n",
              "    promise: Promise.race([pickedPromise, cancelPromise]),\n",
              "    response: {\n",
              "      action: 'starting',\n",
              "    }\n",
              "  };\n",
              "\n",
              "  cancel.remove();\n",
              "\n",
              "  // Disable the input element since further picks are not allowed.\n",
              "  inputElement.disabled = true;\n",
              "\n",
              "  if (!files) {\n",
              "    return {\n",
              "      response: {\n",
              "        action: 'complete',\n",
              "      }\n",
              "    };\n",
              "  }\n",
              "\n",
              "  for (const file of files) {\n",
              "    const li = document.createElement('li');\n",
              "    li.append(span(file.name, {fontWeight: 'bold'}));\n",
              "    li.append(span(\n",
              "        `(${file.type || 'n/a'}) - ${file.size} bytes, ` +\n",
              "        `last modified: ${\n",
              "            file.lastModifiedDate ? file.lastModifiedDate.toLocaleDateString() :\n",
              "                                    'n/a'} - `));\n",
              "    const percent = span('0% done');\n",
              "    li.appendChild(percent);\n",
              "\n",
              "    outputElement.appendChild(li);\n",
              "\n",
              "    const fileDataPromise = new Promise((resolve) => {\n",
              "      const reader = new FileReader();\n",
              "      reader.onload = (e) => {\n",
              "        resolve(e.target.result);\n",
              "      };\n",
              "      reader.readAsArrayBuffer(file);\n",
              "    });\n",
              "    // Wait for the data to be ready.\n",
              "    let fileData = yield {\n",
              "      promise: fileDataPromise,\n",
              "      response: {\n",
              "        action: 'continue',\n",
              "      }\n",
              "    };\n",
              "\n",
              "    // Use a chunked sending to avoid message size limits. See b/62115660.\n",
              "    let position = 0;\n",
              "    do {\n",
              "      const length = Math.min(fileData.byteLength - position, MAX_PAYLOAD_SIZE);\n",
              "      const chunk = new Uint8Array(fileData, position, length);\n",
              "      position += length;\n",
              "\n",
              "      const base64 = btoa(String.fromCharCode.apply(null, chunk));\n",
              "      yield {\n",
              "        response: {\n",
              "          action: 'append',\n",
              "          file: file.name,\n",
              "          data: base64,\n",
              "        },\n",
              "      };\n",
              "\n",
              "      let percentDone = fileData.byteLength === 0 ?\n",
              "          100 :\n",
              "          Math.round((position / fileData.byteLength) * 100);\n",
              "      percent.textContent = `${percentDone}% done`;\n",
              "\n",
              "    } while (position < fileData.byteLength);\n",
              "  }\n",
              "\n",
              "  // All done.\n",
              "  yield {\n",
              "    response: {\n",
              "      action: 'complete',\n",
              "    }\n",
              "  };\n",
              "}\n",
              "\n",
              "scope.google = scope.google || {};\n",
              "scope.google.colab = scope.google.colab || {};\n",
              "scope.google.colab._files = {\n",
              "  _uploadFiles,\n",
              "  _uploadFilesContinue,\n",
              "};\n",
              "})(self);\n",
              "</script> "
            ]
          },
          "metadata": {}
        },
        {
          "output_type": "stream",
          "name": "stdout",
          "text": [
            "Saving simple2d.dat to simple2d (2).dat\n"
          ]
        }
      ]
    },
    {
      "cell_type": "code",
      "source": [
        "lines = str(list(uploaded.values())[0])[2:-1].replace('\\\\r', '').split('\\\\n')\n",
        "lines"
      ],
      "metadata": {
        "colab": {
          "base_uri": "https://localhost:8080/"
        },
        "id": "Uzvg-dfTpt7q",
        "outputId": "19568c93-2f39-4039-8130-2d3ed991db3d"
      },
      "execution_count": 388,
      "outputs": [
        {
          "output_type": "execute_result",
          "data": {
            "text/plain": [
              "['8 2 2 3',\n",
              " '15 10 ',\n",
              " '3 10 ',\n",
              " '15 12 ',\n",
              " '3 14 ',\n",
              " '18 13 ',\n",
              " '1 7 ',\n",
              " '10 1 ',\n",
              " '10 30']"
            ]
          },
          "metadata": {},
          "execution_count": 388
        }
      ]
    },
    {
      "cell_type": "code",
      "source": [
        "data = [line.split() for line in lines]\n",
        "x = np.array(data[1:], dtype=float)\n",
        "x.T"
      ],
      "metadata": {
        "id": "5e7BfNHJshc9",
        "colab": {
          "base_uri": "https://localhost:8080/"
        },
        "outputId": "ceaa00b5-99ed-44dd-802f-79fa614d94b3"
      },
      "execution_count": 400,
      "outputs": [
        {
          "output_type": "execute_result",
          "data": {
            "text/plain": [
              "array([[15.,  3., 15.,  3., 18.,  1., 10., 10.],\n",
              "       [10., 10., 12., 14., 13.,  7.,  1., 30.]])"
            ]
          },
          "metadata": {},
          "execution_count": 400
        }
      ]
    },
    {
      "cell_type": "code",
      "source": [
        "def spdkh_kmeans(x, k, centroid, stop_when_no_change=False):\n",
        "    print('Initial Centroid:')\n",
        "    print(centroid)\n",
        "    print()\n",
        "\n",
        "    x = x.T\n",
        "    old_centroid = np.zeros((k, 2))\n",
        "    i = 1\n",
        "    while i <= 20:\n",
        "        if (np.array([centroid == old_centroid])).all():\n",
        "            if stop_when_no_change:\n",
        "                break\n",
        "        \n",
        "        print('\\n' + '\\t' * 3 + '#' * 25)\n",
        "        print('\\t' * 4 + \"Iteration\", i)\n",
        "        i += 1\n",
        "        print('\\t' * 3 + '#' * 25)\n",
        "        print()\n",
        "\n",
        "        c_dist = np.zeros((k, np.shape(x)[0], 1))\n",
        "        clusters = [0] * k\n",
        "        \n",
        "        empty_ids = []\n",
        "        plt.scatter(x.T[0], x.T[1], color=\"black\")\n",
        "        \n",
        "        for c in range(k):\n",
        "            plt.plot(centroid[c][0], centroid[c][1], marker=\"o\", markersize=15, markeredgecolor=\"red\")\n",
        "            c_dist[c] = cdist(x, [centroid[c]], metric='euclidean')\n",
        "            # print(\"\\nDistance of x with centroid\", c + 1)\n",
        "            # print(c_dist[c])\n",
        "        # print()\n",
        "        c_ids = np.argpartition(c_dist.T, k - 1).T\n",
        "        old_centroid = centroid.copy()\n",
        "        sses = [0] * k\n",
        "        for c in range(k):\n",
        "            \n",
        "            condition = np.squeeze(c_ids[c] == 0)\n",
        "            clusters[c] = np.array(x[condition].tolist())\n",
        "            \n",
        "            print('Cluster', c)\n",
        "            print(clusters[c].T)\n",
        "            print()\n",
        "\n",
        "            if clusters[c] != []:\n",
        "                plt.scatter(clusters[c].T[0], clusters[c].T[1])\n",
        "            else:\n",
        "                empty_ids.append(c)\n",
        "                continue\n",
        "                \n",
        "            centroid[c] = np.mean(clusters[c], 0)   \n",
        "            errors = cdist(clusters[c], [centroid[c]], metric='euclidean')\n",
        "            # print('errors', errors)\n",
        "            sses[c] = list(sum([error ** 2 for error in errors]))\n",
        "\n",
        "        k -= len(empty_ids)\n",
        "\n",
        "        centroid = np.delete(centroid, [empty_ids], axis=0)\n",
        "        \n",
        "        plt.grid(True)\n",
        "        if np.shape(x)[1] != 2:\n",
        "            plt.close()\n",
        "        else: \n",
        "            plt.show()\n",
        "\n",
        "        print(\"\\nUpdated centroid\")\n",
        "        print(centroid)\n",
        "    \n",
        "    return sses\n",
        " "
      ],
      "metadata": {
        "id": "cj-Z5f5hUUQR"
      },
      "execution_count": 401,
      "outputs": []
    },
    {
      "cell_type": "code",
      "source": [
        "def spdkh_c2(data):\n",
        "    n, m, k_min, k_max = list(map(int, data[0]))\n",
        "    print('n, m, k min, k max:', n, m, k_min, k_max)\n",
        "\n",
        "    x = np.array(data[1:], dtype=float)\n",
        "    print('\\ninput data points:\\n', x.T)\n",
        "\n",
        "    plt.scatter(x.T[0], x.T[1], color=\"black\")\n",
        "    plt.grid(True)\n",
        "    if m != 2:\n",
        "        plt.close()\n",
        "    else:\n",
        "        plt.show()\n",
        "\n",
        "    sse = dict()\n",
        "    if m <= 3:\n",
        "        x_new = x\n",
        "    else:\n",
        "        x_new = select_subspace(x)\n",
        "    for k in range(k_min, k_max + 1):\n",
        "        print('\\n' + '_' * 70)\n",
        "        print()\n",
        "        print('\\t' * 4 + 'K =', k)\n",
        "        print('_' * 70)\n",
        "        print()\n",
        "\n",
        "        centroid_ids = np.random.choice(n, k, replace=False)\n",
        "        centroids = x[centroid_ids]\n",
        "        sse[k] = spdkh_kmeans(x_new.T, k, centroids)\n",
        "    print(\"SSE:\", sse)\n",
        "    return sse\n"
      ],
      "metadata": {
        "id": "73KvUAv8vkom"
      },
      "execution_count": 402,
      "outputs": []
    },
    {
      "cell_type": "code",
      "source": [
        "def generate_output(SSE):\n",
        "    for k, sses in SSE.items(): \n",
        "        print(k, end=' ')\n",
        "        for sse in sses:\n",
        "            print(np.round(sse[0], 4), end=' ')\n",
        "        print()"
      ],
      "metadata": {
        "id": "XlcZY6b0NzTA"
      },
      "execution_count": 403,
      "outputs": []
    },
    {
      "cell_type": "code",
      "source": [
        "SSE = spdkh_c2(data)"
      ],
      "metadata": {
        "colab": {
          "base_uri": "https://localhost:8080/",
          "height": 1000
        },
        "id": "30cj8VhPNx_R",
        "outputId": "0a6a23a2-a418-404c-b26e-f4a121cd4699"
      },
      "execution_count": 404,
      "outputs": [
        {
          "output_type": "stream",
          "name": "stdout",
          "text": [
            "n, m, k min, k max: 8 2 2 3\n",
            "\n",
            "input data points:\n",
            " [[15.  3. 15.  3. 18.  1. 10. 10.]\n",
            " [10. 10. 12. 14. 13.  7.  1. 30.]]\n"
          ]
        },
        {
          "output_type": "display_data",
          "data": {
            "text/plain": [
              "<Figure size 432x288 with 1 Axes>"
            ],
            "image/png": "[encoded data removed]"
          },
          "metadata": {
            "needs_background": "light"
          }
        },
        {
          "output_type": "stream",
          "name": "stdout",
          "text": [
            "\n",
            "______________________________________________________________________\n",
            "\n",
            "\t\t\t\tK = 2\n",
            "______________________________________________________________________\n",
            "\n",
            "Initial Centroid:\n",
            "[[15. 12.]\n",
            " [ 3. 10.]]\n",
            "\n",
            "\n",
            "\t\t\t#########################\n",
            "\t\t\t\tIteration 1\n",
            "\t\t\t#########################\n",
            "\n",
            "Cluster 0\n",
            "[[15. 15. 18. 10.]\n",
            " [10. 12. 13. 30.]]\n",
            "\n",
            "Cluster 1\n",
            "[[ 3.  3.  1. 10.]\n",
            " [10. 14.  7.  1.]]\n",
            "\n"
          ]
        },
        {
          "output_type": "stream",
          "name": "stderr",
          "text": [
            "/usr/local/lib/python3.7/dist-packages/ipykernel_launcher.py:44: DeprecationWarning: elementwise comparison failed; this will raise an error in the future.\n"
          ]
        },
        {
          "output_type": "display_data",
          "data": {
            "text/plain": [
              "<Figure size 432x288 with 1 Axes>"
            ],
            "image/png": "[encoded data removed]"
          },
          "metadata": {
            "needs_background": "light"
          }
        },
        {
          "output_type": "stream",
          "name": "stdout",
          "text": [
            "\n",
            "Updated centroid\n",
            "[[14.5  16.25]\n",
            " [ 4.25  8.  ]]\n",
            "\n",
            "\t\t\t#########################\n",
            "\t\t\t\tIteration 2\n",
            "\t\t\t#########################\n",
            "\n",
            "Cluster 0\n",
            "[[15. 15. 18. 10.]\n",
            " [10. 12. 13. 30.]]\n",
            "\n",
            "Cluster 1\n",
            "[[ 3.  3.  1. 10.]\n",
            " [10. 14.  7.  1.]]\n",
            "\n"
          ]
        },
        {
          "output_type": "display_data",
          "data": {
            "text/plain": [
              "<Figure size 432x288 with 1 Axes>"
            ],
            "image/png": "[encoded data removed]"
          },
          "metadata": {
            "needs_background": "light"
          }
        },
        {
          "output_type": "stream",
          "name": "stdout",
          "text": [
            "\n",
            "Updated centroid\n",
            "[[14.5  16.25]\n",
            " [ 4.25  8.  ]]\n",
            "\n",
            "\t\t\t#########################\n",
            "\t\t\t\tIteration 3\n",
            "\t\t\t#########################\n",
            "\n",
            "Cluster 0\n",
            "[[15. 15. 18. 10.]\n",
            " [10. 12. 13. 30.]]\n",
            "\n",
            "Cluster 1\n",
            "[[ 3.  3.  1. 10.]\n",
            " [10. 14.  7.  1.]]\n",
            "\n"
          ]
        },
        {
          "output_type": "display_data",
          "data": {
            "text/plain": [
              "<Figure size 432x288 with 1 Axes>"
            ],
            "image/png": "[encoded data removed]"
          },
          "metadata": {
            "needs_background": "light"
          }
        },
        {
          "output_type": "stream",
          "name": "stdout",
          "text": [
            "\n",
            "Updated centroid\n",
            "[[14.5  16.25]\n",
            " [ 4.25  8.  ]]\n",
            "\n",
            "\t\t\t#########################\n",
            "\t\t\t\tIteration 4\n",
            "\t\t\t#########################\n",
            "\n",
            "Cluster 0\n",
            "[[15. 15. 18. 10.]\n",
            " [10. 12. 13. 30.]]\n",
            "\n",
            "Cluster 1\n",
            "[[ 3.  3.  1. 10.]\n",
            " [10. 14.  7.  1.]]\n",
            "\n"
          ]
        },
        {
          "output_type": "display_data",
          "data": {
            "text/plain": [
              "<Figure size 432x288 with 1 Axes>"
            ],
            "image/png": "[encoded data removed]"
          },
          "metadata": {
            "needs_background": "light"
          }
        },
        {
          "output_type": "stream",
          "name": "stdout",
          "text": [
            "\n",
            "Updated centroid\n",
            "[[14.5  16.25]\n",
            " [ 4.25  8.  ]]\n",
            "\n",
            "\t\t\t#########################\n",
            "\t\t\t\tIteration 5\n",
            "\t\t\t#########################\n",
            "\n",
            "Cluster 0\n",
            "[[15. 15. 18. 10.]\n",
            " [10. 12. 13. 30.]]\n",
            "\n",
            "Cluster 1\n",
            "[[ 3.  3.  1. 10.]\n",
            " [10. 14.  7.  1.]]\n",
            "\n"
          ]
        },
        {
          "output_type": "display_data",
          "data": {
            "text/plain": [
              "<Figure size 432x288 with 1 Axes>"
            ],
            "image/png": "[encoded data removed]"
          },
          "metadata": {
            "needs_background": "light"
          }
        },
        {
          "output_type": "stream",
          "name": "stdout",
          "text": [
            "\n",
            "Updated centroid\n",
            "[[14.5  16.25]\n",
            " [ 4.25  8.  ]]\n",
            "\n",
            "\t\t\t#########################\n",
            "\t\t\t\tIteration 6\n",
            "\t\t\t#########################\n",
            "\n",
            "Cluster 0\n",
            "[[15. 15. 18. 10.]\n",
            " [10. 12. 13. 30.]]\n",
            "\n",
            "Cluster 1\n",
            "[[ 3.  3.  1. 10.]\n",
            " [10. 14.  7.  1.]]\n",
            "\n"
          ]
        },
        {
          "output_type": "display_data",
          "data": {
            "text/plain": [
              "<Figure size 432x288 with 1 Axes>"
            ],
            "image/png": "[encoded data removed]"
          },
          "metadata": {
            "needs_background": "light"
          }
        },
        {
          "output_type": "stream",
          "name": "stdout",
          "text": [
            "\n",
            "Updated centroid\n",
            "[[14.5  16.25]\n",
            " [ 4.25  8.  ]]\n",
            "\n",
            "\t\t\t#########################\n",
            "\t\t\t\tIteration 7\n",
            "\t\t\t#########################\n",
            "\n",
            "Cluster 0\n",
            "[[15. 15. 18. 10.]\n",
            " [10. 12. 13. 30.]]\n",
            "\n",
            "Cluster 1\n",
            "[[ 3.  3.  1. 10.]\n",
            " [10. 14.  7.  1.]]\n",
            "\n"
          ]
        },
        {
          "output_type": "display_data",
          "data": {
            "text/plain": [
              "<Figure size 432x288 with 1 Axes>"
            ],
            "image/png": "[encoded data removed]"
          },
          "metadata": {
            "needs_background": "light"
          }
        },
        {
          "output_type": "stream",
          "name": "stdout",
          "text": [
            "\n",
            "Updated centroid\n",
            "[[14.5  16.25]\n",
            " [ 4.25  8.  ]]\n",
            "\n",
            "\t\t\t#########################\n",
            "\t\t\t\tIteration 8\n",
            "\t\t\t#########################\n",
            "\n",
            "Cluster 0\n",
            "[[15. 15. 18. 10.]\n",
            " [10. 12. 13. 30.]]\n",
            "\n",
            "Cluster 1\n",
            "[[ 3.  3.  1. 10.]\n",
            " [10. 14.  7.  1.]]\n",
            "\n"
          ]
        },
        {
          "output_type": "display_data",
          "data": {
            "text/plain": [
              "<Figure size 432x288 with 1 Axes>"
            ],
            "image/png": "[encoded data removed]"
          },
          "metadata": {
            "needs_background": "light"
          }
        },
        {
          "output_type": "stream",
          "name": "stdout",
          "text": [
            "\n",
            "Updated centroid\n",
            "[[14.5  16.25]\n",
            " [ 4.25  8.  ]]\n",
            "\n",
            "\t\t\t#########################\n",
            "\t\t\t\tIteration 9\n",
            "\t\t\t#########################\n",
            "\n",
            "Cluster 0\n",
            "[[15. 15. 18. 10.]\n",
            " [10. 12. 13. 30.]]\n",
            "\n",
            "Cluster 1\n",
            "[[ 3.  3.  1. 10.]\n",
            " [10. 14.  7.  1.]]\n",
            "\n"
          ]
        },
        {
          "output_type": "display_data",
          "data": {
            "text/plain": [
              "<Figure size 432x288 with 1 Axes>"
            ],
            "image/png": "[encoded data removed]"
          },
          "metadata": {
            "needs_background": "light"
          }
        },
        {
          "output_type": "stream",
          "name": "stdout",
          "text": [
            "\n",
            "Updated centroid\n",
            "[[14.5  16.25]\n",
            " [ 4.25  8.  ]]\n",
            "\n",
            "\t\t\t#########################\n",
            "\t\t\t\tIteration 10\n",
            "\t\t\t#########################\n",
            "\n",
            "Cluster 0\n",
            "[[15. 15. 18. 10.]\n",
            " [10. 12. 13. 30.]]\n",
            "\n",
            "Cluster 1\n",
            "[[ 3.  3.  1. 10.]\n",
            " [10. 14.  7.  1.]]\n",
            "\n"
          ]
        },
        {
          "output_type": "display_data",
          "data": {
            "text/plain": [
              "<Figure size 432x288 with 1 Axes>"
            ],
            "image/png": "[encoded data removed]"
          },
          "metadata": {
            "needs_background": "light"
          }
        },
        {
          "output_type": "stream",
          "name": "stdout",
          "text": [
            "\n",
            "Updated centroid\n",
            "[[14.5  16.25]\n",
            " [ 4.25  8.  ]]\n",
            "\n",
            "\t\t\t#########################\n",
            "\t\t\t\tIteration 11\n",
            "\t\t\t#########################\n",
            "\n",
            "Cluster 0\n",
            "[[15. 15. 18. 10.]\n",
            " [10. 12. 13. 30.]]\n",
            "\n",
            "Cluster 1\n",
            "[[ 3.  3.  1. 10.]\n",
            " [10. 14.  7.  1.]]\n",
            "\n"
          ]
        },
        {
          "output_type": "display_data",
          "data": {
            "text/plain": [
              "<Figure size 432x288 with 1 Axes>"
            ],
            "image/png": "[encoded data removed]"
          },
          "metadata": {
            "needs_background": "light"
          }
        },
        {
          "output_type": "stream",
          "name": "stdout",
          "text": [
            "\n",
            "Updated centroid\n",
            "[[14.5  16.25]\n",
            " [ 4.25  8.  ]]\n",
            "\n",
            "\t\t\t#########################\n",
            "\t\t\t\tIteration 12\n",
            "\t\t\t#########################\n",
            "\n",
            "Cluster 0\n",
            "[[15. 15. 18. 10.]\n",
            " [10. 12. 13. 30.]]\n",
            "\n",
            "Cluster 1\n",
            "[[ 3.  3.  1. 10.]\n",
            " [10. 14.  7.  1.]]\n",
            "\n"
          ]
        },
        {
          "output_type": "display_data",
          "data": {
            "text/plain": [
              "<Figure size 432x288 with 1 Axes>"
            ],
            "image/png": "[encoded data removed]"
          },
          "metadata": {
            "needs_background": "light"
          }
        },
        {
          "output_type": "stream",
          "name": "stdout",
          "text": [
            "\n",
            "Updated centroid\n",
            "[[14.5  16.25]\n",
            " [ 4.25  8.  ]]\n",
            "\n",
            "\t\t\t#########################\n",
            "\t\t\t\tIteration 13\n",
            "\t\t\t#########################\n",
            "\n",
            "Cluster 0\n",
            "[[15. 15. 18. 10.]\n",
            " [10. 12. 13. 30.]]\n",
            "\n",
            "Cluster 1\n",
            "[[ 3.  3.  1. 10.]\n",
            " [10. 14.  7.  1.]]\n",
            "\n"
          ]
        },
        {
          "output_type": "display_data",
          "data": {
            "text/plain": [
              "<Figure size 432x288 with 1 Axes>"
            ],
            "image/png": "[encoded data removed]"
          },
          "metadata": {
            "needs_background": "light"
          }
        },
        {
          "output_type": "stream",
          "name": "stdout",
          "text": [
            "\n",
            "Updated centroid\n",
            "[[14.5  16.25]\n",
            " [ 4.25  8.  ]]\n",
            "\n",
            "\t\t\t#########################\n",
            "\t\t\t\tIteration 14\n",
            "\t\t\t#########################\n",
            "\n",
            "Cluster 0\n",
            "[[15. 15. 18. 10.]\n",
            " [10. 12. 13. 30.]]\n",
            "\n",
            "Cluster 1\n",
            "[[ 3.  3.  1. 10.]\n",
            " [10. 14.  7.  1.]]\n",
            "\n"
          ]
        },
        {
          "output_type": "display_data",
          "data": {
            "text/plain": [
              "<Figure size 432x288 with 1 Axes>"
            ],
            "image/png": "[encoded data removed]"
          },
          "metadata": {
            "needs_background": "light"
          }
        },
        {
          "output_type": "stream",
          "name": "stdout",
          "text": [
            "\n",
            "Updated centroid\n",
            "[[14.5  16.25]\n",
            " [ 4.25  8.  ]]\n",
            "\n",
            "\t\t\t#########################\n",
            "\t\t\t\tIteration 15\n",
            "\t\t\t#########################\n",
            "\n",
            "Cluster 0\n",
            "[[15. 15. 18. 10.]\n",
            " [10. 12. 13. 30.]]\n",
            "\n",
            "Cluster 1\n",
            "[[ 3.  3.  1. 10.]\n",
            " [10. 14.  7.  1.]]\n",
            "\n"
          ]
        },
        {
          "output_type": "display_data",
          "data": {
            "text/plain": [
              "<Figure size 432x288 with 1 Axes>"
            ],
            "image/png": "[encoded data removed]"
          },
          "metadata": {
            "needs_background": "light"
          }
        },
        {
          "output_type": "stream",
          "name": "stdout",
          "text": [
            "\n",
            "Updated centroid\n",
            "[[14.5  16.25]\n",
            " [ 4.25  8.  ]]\n",
            "\n",
            "\t\t\t#########################\n",
            "\t\t\t\tIteration 16\n",
            "\t\t\t#########################\n",
            "\n",
            "Cluster 0\n",
            "[[15. 15. 18. 10.]\n",
            " [10. 12. 13. 30.]]\n",
            "\n",
            "Cluster 1\n",
            "[[ 3.  3.  1. 10.]\n",
            " [10. 14.  7.  1.]]\n",
            "\n"
          ]
        },
        {
          "output_type": "display_data",
          "data": {
            "text/plain": [
              "<Figure size 432x288 with 1 Axes>"
            ],
            "image/png": "[encoded data removed]"
          },
          "metadata": {
            "needs_background": "light"
          }
        },
        {
          "output_type": "stream",
          "name": "stdout",
          "text": [
            "\n",
            "Updated centroid\n",
            "[[14.5  16.25]\n",
            " [ 4.25  8.  ]]\n",
            "\n",
            "\t\t\t#########################\n",
            "\t\t\t\tIteration 17\n",
            "\t\t\t#########################\n",
            "\n",
            "Cluster 0\n",
            "[[15. 15. 18. 10.]\n",
            " [10. 12. 13. 30.]]\n",
            "\n",
            "Cluster 1\n",
            "[[ 3.  3.  1. 10.]\n",
            " [10. 14.  7.  1.]]\n",
            "\n"
          ]
        },
        {
          "output_type": "display_data",
          "data": {
            "text/plain": [
              "<Figure size 432x288 with 1 Axes>"
            ],
            "image/png": "[encoded data removed]"
          },
          "metadata": {
            "needs_background": "light"
          }
        },
        {
          "output_type": "stream",
          "name": "stdout",
          "text": [
            "\n",
            "Updated centroid\n",
            "[[14.5  16.25]\n",
            " [ 4.25  8.  ]]\n",
            "\n",
            "\t\t\t#########################\n",
            "\t\t\t\tIteration 18\n",
            "\t\t\t#########################\n",
            "\n",
            "Cluster 0\n",
            "[[15. 15. 18. 10.]\n",
            " [10. 12. 13. 30.]]\n",
            "\n",
            "Cluster 1\n",
            "[[ 3.  3.  1. 10.]\n",
            " [10. 14.  7.  1.]]\n",
            "\n"
          ]
        },
        {
          "output_type": "display_data",
          "data": {
            "text/plain": [
              "<Figure size 432x288 with 1 Axes>"
            ],
            "image/png": "[encoded data removed]"
          },
          "metadata": {
            "needs_background": "light"
          }
        },
        {
          "output_type": "stream",
          "name": "stdout",
          "text": [
            "\n",
            "Updated centroid\n",
            "[[14.5  16.25]\n",
            " [ 4.25  8.  ]]\n",
            "\n",
            "\t\t\t#########################\n",
            "\t\t\t\tIteration 19\n",
            "\t\t\t#########################\n",
            "\n",
            "Cluster 0\n",
            "[[15. 15. 18. 10.]\n",
            " [10. 12. 13. 30.]]\n",
            "\n",
            "Cluster 1\n",
            "[[ 3.  3.  1. 10.]\n",
            " [10. 14.  7.  1.]]\n",
            "\n"
          ]
        },
        {
          "output_type": "display_data",
          "data": {
            "text/plain": [
              "<Figure size 432x288 with 1 Axes>"
            ],
            "image/png": "[encoded data removed]"
          },
          "metadata": {
            "needs_background": "light"
          }
        },
        {
          "output_type": "stream",
          "name": "stdout",
          "text": [
            "\n",
            "Updated centroid\n",
            "[[14.5  16.25]\n",
            " [ 4.25  8.  ]]\n",
            "\n",
            "\t\t\t#########################\n",
            "\t\t\t\tIteration 20\n",
            "\t\t\t#########################\n",
            "\n",
            "Cluster 0\n",
            "[[15. 15. 18. 10.]\n",
            " [10. 12. 13. 30.]]\n",
            "\n",
            "Cluster 1\n",
            "[[ 3.  3.  1. 10.]\n",
            " [10. 14.  7.  1.]]\n",
            "\n"
          ]
        },
        {
          "output_type": "display_data",
          "data": {
            "text/plain": [
              "<Figure size 432x288 with 1 Axes>"
            ],
            "image/png": "[encoded data removed]"
          },
          "metadata": {
            "needs_background": "light"
          }
        },
        {
          "output_type": "stream",
          "name": "stdout",
          "text": [
            "\n",
            "Updated centroid\n",
            "[[14.5  16.25]\n",
            " [ 4.25  8.  ]]\n",
            "\n",
            "______________________________________________________________________\n",
            "\n",
            "\t\t\t\tK = 3\n",
            "______________________________________________________________________\n",
            "\n",
            "Initial Centroid:\n",
            "[[ 3. 14.]\n",
            " [ 1.  7.]\n",
            " [15. 12.]]\n",
            "\n",
            "\n",
            "\t\t\t#########################\n",
            "\t\t\t\tIteration 1\n",
            "\t\t\t#########################\n",
            "\n",
            "Cluster 0\n",
            "[[ 3. 10.]\n",
            " [14. 30.]]\n",
            "\n",
            "Cluster 1\n",
            "[[15.  3. 15. 18.  1.]\n",
            " [10. 10. 12. 13.  7.]]\n",
            "\n",
            "Cluster 2\n",
            "[[10.]\n",
            " [ 1.]]\n",
            "\n"
          ]
        },
        {
          "output_type": "display_data",
          "data": {
            "text/plain": [
              "<Figure size 432x288 with 1 Axes>"
            ],
            "image/png": "[encoded data removed]"
          },
          "metadata": {
            "needs_background": "light"
          }
        },
        {
          "output_type": "stream",
          "name": "stdout",
          "text": [
            "\n",
            "Updated centroid\n",
            "[[ 6.5 22. ]\n",
            " [10.4 10.4]\n",
            " [10.   1. ]]\n",
            "\n",
            "\t\t\t#########################\n",
            "\t\t\t\tIteration 2\n",
            "\t\t\t#########################\n",
            "\n",
            "Cluster 0\n",
            "[[10.]\n",
            " [30.]]\n",
            "\n",
            "Cluster 1\n",
            "[[ 3.]\n",
            " [14.]]\n",
            "\n",
            "Cluster 2\n",
            "[[15.  3. 15. 18.  1. 10.]\n",
            " [10. 10. 12. 13.  7.  1.]]\n",
            "\n"
          ]
        },
        {
          "output_type": "display_data",
          "data": {
            "text/plain": [
              "<Figure size 432x288 with 1 Axes>"
            ],
            "image/png": "[encoded data removed]"
          },
          "metadata": {
            "needs_background": "light"
          }
        },
        {
          "output_type": "stream",
          "name": "stdout",
          "text": [
            "\n",
            "Updated centroid\n",
            "[[10.         30.        ]\n",
            " [ 3.         14.        ]\n",
            " [10.33333333  8.83333333]]\n",
            "\n",
            "\t\t\t#########################\n",
            "\t\t\t\tIteration 3\n",
            "\t\t\t#########################\n",
            "\n",
            "Cluster 0\n",
            "[[10.]\n",
            " [30.]]\n",
            "\n",
            "Cluster 1\n",
            "[]\n",
            "\n",
            "Cluster 2\n",
            "[[15.  3. 15.  3. 18.  1. 10.]\n",
            " [10. 10. 12. 14. 13.  7.  1.]]\n",
            "\n"
          ]
        },
        {
          "output_type": "stream",
          "name": "stderr",
          "text": [
            "/usr/local/lib/python3.7/dist-packages/ipykernel_launcher.py:44: DeprecationWarning: The truth value of an empty array is ambiguous. Returning False, but in future this will result in an error. Use `array.size > 0` to check that an array is not empty.\n"
          ]
        },
        {
          "output_type": "display_data",
          "data": {
            "text/plain": [
              "<Figure size 432x288 with 1 Axes>"
            ],
            "image/png": "[encoded data removed]"
          },
          "metadata": {
            "needs_background": "light"
          }
        },
        {
          "output_type": "stream",
          "name": "stdout",
          "text": [
            "\n",
            "Updated centroid\n",
            "[[10.         30.        ]\n",
            " [ 9.28571429  9.57142857]]\n",
            "\n",
            "\t\t\t#########################\n",
            "\t\t\t\tIteration 4\n",
            "\t\t\t#########################\n",
            "\n"
          ]
        },
        {
          "output_type": "stream",
          "name": "stderr",
          "text": [
            "/usr/local/lib/python3.7/dist-packages/ipykernel_launcher.py:10: DeprecationWarning: elementwise comparison failed; this will raise an error in the future.\n",
            "  # Remove the CWD from sys.path while we load stuff.\n"
          ]
        },
        {
          "output_type": "stream",
          "name": "stdout",
          "text": [
            "Cluster 0\n",
            "[[10.]\n",
            " [30.]]\n",
            "\n",
            "Cluster 1\n",
            "[[15.  3. 15.  3. 18.  1. 10.]\n",
            " [10. 10. 12. 14. 13.  7.  1.]]\n",
            "\n"
          ]
        },
        {
          "output_type": "display_data",
          "data": {
            "text/plain": [
              "<Figure size 432x288 with 1 Axes>"
            ],
            "image/png": "[encoded data removed]"
          },
          "metadata": {
            "needs_background": "light"
          }
        },
        {
          "output_type": "stream",
          "name": "stdout",
          "text": [
            "\n",
            "Updated centroid\n",
            "[[10.         30.        ]\n",
            " [ 9.28571429  9.57142857]]\n",
            "\n",
            "\t\t\t#########################\n",
            "\t\t\t\tIteration 5\n",
            "\t\t\t#########################\n",
            "\n",
            "Cluster 0\n",
            "[[10.]\n",
            " [30.]]\n",
            "\n",
            "Cluster 1\n",
            "[[15.  3. 15.  3. 18.  1. 10.]\n",
            " [10. 10. 12. 14. 13.  7.  1.]]\n",
            "\n"
          ]
        },
        {
          "output_type": "display_data",
          "data": {
            "text/plain": [
              "<Figure size 432x288 with 1 Axes>"
            ],
            "image/png": "[encoded data removed]"
          },
          "metadata": {
            "needs_background": "light"
          }
        },
        {
          "output_type": "stream",
          "name": "stdout",
          "text": [
            "\n",
            "Updated centroid\n",
            "[[10.         30.        ]\n",
            " [ 9.28571429  9.57142857]]\n",
            "\n",
            "\t\t\t#########################\n",
            "\t\t\t\tIteration 6\n",
            "\t\t\t#########################\n",
            "\n",
            "Cluster 0\n",
            "[[10.]\n",
            " [30.]]\n",
            "\n",
            "Cluster 1\n",
            "[[15.  3. 15.  3. 18.  1. 10.]\n",
            " [10. 10. 12. 14. 13.  7.  1.]]\n",
            "\n"
          ]
        },
        {
          "output_type": "display_data",
          "data": {
            "text/plain": [
              "<Figure size 432x288 with 1 Axes>"
            ],
            "image/png": "[encoded data removed]"
          },
          "metadata": {
            "needs_background": "light"
          }
        },
        {
          "output_type": "stream",
          "name": "stdout",
          "text": [
            "\n",
            "Updated centroid\n",
            "[[10.         30.        ]\n",
            " [ 9.28571429  9.57142857]]\n",
            "\n",
            "\t\t\t#########################\n",
            "\t\t\t\tIteration 7\n",
            "\t\t\t#########################\n",
            "\n",
            "Cluster 0\n",
            "[[10.]\n",
            " [30.]]\n",
            "\n",
            "Cluster 1\n",
            "[[15.  3. 15.  3. 18.  1. 10.]\n",
            " [10. 10. 12. 14. 13.  7.  1.]]\n",
            "\n"
          ]
        },
        {
          "output_type": "display_data",
          "data": {
            "text/plain": [
              "<Figure size 432x288 with 1 Axes>"
            ],
            "image/png": "[encoded data removed]"
          },
          "metadata": {
            "needs_background": "light"
          }
        },
        {
          "output_type": "stream",
          "name": "stdout",
          "text": [
            "\n",
            "Updated centroid\n",
            "[[10.         30.        ]\n",
            " [ 9.28571429  9.57142857]]\n",
            "\n",
            "\t\t\t#########################\n",
            "\t\t\t\tIteration 8\n",
            "\t\t\t#########################\n",
            "\n",
            "Cluster 0\n",
            "[[10.]\n",
            " [30.]]\n",
            "\n",
            "Cluster 1\n",
            "[[15.  3. 15.  3. 18.  1. 10.]\n",
            " [10. 10. 12. 14. 13.  7.  1.]]\n",
            "\n"
          ]
        },
        {
          "output_type": "display_data",
          "data": {
            "text/plain": [
              "<Figure size 432x288 with 1 Axes>"
            ],
            "image/png": "[encoded data removed]"
          },
          "metadata": {
            "needs_background": "light"
          }
        },
        {
          "output_type": "stream",
          "name": "stdout",
          "text": [
            "\n",
            "Updated centroid\n",
            "[[10.         30.        ]\n",
            " [ 9.28571429  9.57142857]]\n",
            "\n",
            "\t\t\t#########################\n",
            "\t\t\t\tIteration 9\n",
            "\t\t\t#########################\n",
            "\n",
            "Cluster 0\n",
            "[[10.]\n",
            " [30.]]\n",
            "\n",
            "Cluster 1\n",
            "[[15.  3. 15.  3. 18.  1. 10.]\n",
            " [10. 10. 12. 14. 13.  7.  1.]]\n",
            "\n"
          ]
        },
        {
          "output_type": "display_data",
          "data": {
            "text/plain": [
              "<Figure size 432x288 with 1 Axes>"
            ],
            "image/png": "[encoded data removed]"
          },
          "metadata": {
            "needs_background": "light"
          }
        },
        {
          "output_type": "stream",
          "name": "stdout",
          "text": [
            "\n",
            "Updated centroid\n",
            "[[10.         30.        ]\n",
            " [ 9.28571429  9.57142857]]\n",
            "\n",
            "\t\t\t#########################\n",
            "\t\t\t\tIteration 10\n",
            "\t\t\t#########################\n",
            "\n",
            "Cluster 0\n",
            "[[10.]\n",
            " [30.]]\n",
            "\n",
            "Cluster 1\n",
            "[[15.  3. 15.  3. 18.  1. 10.]\n",
            " [10. 10. 12. 14. 13.  7.  1.]]\n",
            "\n"
          ]
        },
        {
          "output_type": "display_data",
          "data": {
            "text/plain": [
              "<Figure size 432x288 with 1 Axes>"
            ],
            "image/png": "[encoded data removed]"
          },
          "metadata": {
            "needs_background": "light"
          }
        },
        {
          "output_type": "stream",
          "name": "stdout",
          "text": [
            "\n",
            "Updated centroid\n",
            "[[10.         30.        ]\n",
            " [ 9.28571429  9.57142857]]\n",
            "\n",
            "\t\t\t#########################\n",
            "\t\t\t\tIteration 11\n",
            "\t\t\t#########################\n",
            "\n",
            "Cluster 0\n",
            "[[10.]\n",
            " [30.]]\n",
            "\n",
            "Cluster 1\n",
            "[[15.  3. 15.  3. 18.  1. 10.]\n",
            " [10. 10. 12. 14. 13.  7.  1.]]\n",
            "\n"
          ]
        },
        {
          "output_type": "display_data",
          "data": {
            "text/plain": [
              "<Figure size 432x288 with 1 Axes>"
            ],
            "image/png": "[encoded data removed]"
          },
          "metadata": {
            "needs_background": "light"
          }
        },
        {
          "output_type": "stream",
          "name": "stdout",
          "text": [
            "\n",
            "Updated centroid\n",
            "[[10.         30.        ]\n",
            " [ 9.28571429  9.57142857]]\n",
            "\n",
            "\t\t\t#########################\n",
            "\t\t\t\tIteration 12\n",
            "\t\t\t#########################\n",
            "\n",
            "Cluster 0\n",
            "[[10.]\n",
            " [30.]]\n",
            "\n",
            "Cluster 1\n",
            "[[15.  3. 15.  3. 18.  1. 10.]\n",
            " [10. 10. 12. 14. 13.  7.  1.]]\n",
            "\n"
          ]
        },
        {
          "output_type": "display_data",
          "data": {
            "text/plain": [
              "<Figure size 432x288 with 1 Axes>"
            ],
            "image/png": "[encoded data removed]"
          },
          "metadata": {
            "needs_background": "light"
          }
        },
        {
          "output_type": "stream",
          "name": "stdout",
          "text": [
            "\n",
            "Updated centroid\n",
            "[[10.         30.        ]\n",
            " [ 9.28571429  9.57142857]]\n",
            "\n",
            "\t\t\t#########################\n",
            "\t\t\t\tIteration 13\n",
            "\t\t\t#########################\n",
            "\n",
            "Cluster 0\n",
            "[[10.]\n",
            " [30.]]\n",
            "\n",
            "Cluster 1\n",
            "[[15.  3. 15.  3. 18.  1. 10.]\n",
            " [10. 10. 12. 14. 13.  7.  1.]]\n",
            "\n"
          ]
        },
        {
          "output_type": "display_data",
          "data": {
            "text/plain": [
              "<Figure size 432x288 with 1 Axes>"
            ],
            "image/png": "[encoded data removed]"
          },
          "metadata": {
            "needs_background": "light"
          }
        },
        {
          "output_type": "stream",
          "name": "stdout",
          "text": [
            "\n",
            "Updated centroid\n",
            "[[10.         30.        ]\n",
            " [ 9.28571429  9.57142857]]\n",
            "\n",
            "\t\t\t#########################\n",
            "\t\t\t\tIteration 14\n",
            "\t\t\t#########################\n",
            "\n",
            "Cluster 0\n",
            "[[10.]\n",
            " [30.]]\n",
            "\n",
            "Cluster 1\n",
            "[[15.  3. 15.  3. 18.  1. 10.]\n",
            " [10. 10. 12. 14. 13.  7.  1.]]\n",
            "\n"
          ]
        },
        {
          "output_type": "display_data",
          "data": {
            "text/plain": [
              "<Figure size 432x288 with 1 Axes>"
            ],
            "image/png": "[encoded data removed]"
          },
          "metadata": {
            "needs_background": "light"
          }
        },
        {
          "output_type": "stream",
          "name": "stdout",
          "text": [
            "\n",
            "Updated centroid\n",
            "[[10.         30.        ]\n",
            " [ 9.28571429  9.57142857]]\n",
            "\n",
            "\t\t\t#########################\n",
            "\t\t\t\tIteration 15\n",
            "\t\t\t#########################\n",
            "\n",
            "Cluster 0\n",
            "[[10.]\n",
            " [30.]]\n",
            "\n",
            "Cluster 1\n",
            "[[15.  3. 15.  3. 18.  1. 10.]\n",
            " [10. 10. 12. 14. 13.  7.  1.]]\n",
            "\n"
          ]
        },
        {
          "output_type": "display_data",
          "data": {
            "text/plain": [
              "<Figure size 432x288 with 1 Axes>"
            ],
            "image/png": "[encoded data removed]"
          },
          "metadata": {
            "needs_background": "light"
          }
        },
        {
          "output_type": "stream",
          "name": "stdout",
          "text": [
            "\n",
            "Updated centroid\n",
            "[[10.         30.        ]\n",
            " [ 9.28571429  9.57142857]]\n",
            "\n",
            "\t\t\t#########################\n",
            "\t\t\t\tIteration 16\n",
            "\t\t\t#########################\n",
            "\n",
            "Cluster 0\n",
            "[[10.]\n",
            " [30.]]\n",
            "\n",
            "Cluster 1\n",
            "[[15.  3. 15.  3. 18.  1. 10.]\n",
            " [10. 10. 12. 14. 13.  7.  1.]]\n",
            "\n"
          ]
        },
        {
          "output_type": "display_data",
          "data": {
            "text/plain": [
              "<Figure size 432x288 with 1 Axes>"
            ],
            "image/png": "[encoded data removed]"
          },
          "metadata": {
            "needs_background": "light"
          }
        },
        {
          "output_type": "stream",
          "name": "stdout",
          "text": [
            "\n",
            "Updated centroid\n",
            "[[10.         30.        ]\n",
            " [ 9.28571429  9.57142857]]\n",
            "\n",
            "\t\t\t#########################\n",
            "\t\t\t\tIteration 17\n",
            "\t\t\t#########################\n",
            "\n",
            "Cluster 0\n",
            "[[10.]\n",
            " [30.]]\n",
            "\n",
            "Cluster 1\n",
            "[[15.  3. 15.  3. 18.  1. 10.]\n",
            " [10. 10. 12. 14. 13.  7.  1.]]\n",
            "\n"
          ]
        },
        {
          "output_type": "display_data",
          "data": {
            "text/plain": [
              "<Figure size 432x288 with 1 Axes>"
            ],
            "image/png": "[encoded data removed]"
          },
          "metadata": {
            "needs_background": "light"
          }
        },
        {
          "output_type": "stream",
          "name": "stdout",
          "text": [
            "\n",
            "Updated centroid\n",
            "[[10.         30.        ]\n",
            " [ 9.28571429  9.57142857]]\n",
            "\n",
            "\t\t\t#########################\n",
            "\t\t\t\tIteration 18\n",
            "\t\t\t#########################\n",
            "\n",
            "Cluster 0\n",
            "[[10.]\n",
            " [30.]]\n",
            "\n",
            "Cluster 1\n",
            "[[15.  3. 15.  3. 18.  1. 10.]\n",
            " [10. 10. 12. 14. 13.  7.  1.]]\n",
            "\n"
          ]
        },
        {
          "output_type": "display_data",
          "data": {
            "text/plain": [
              "<Figure size 432x288 with 1 Axes>"
            ],
            "image/png": "[encoded data removed]"
          },
          "metadata": {
            "needs_background": "light"
          }
        },
        {
          "output_type": "stream",
          "name": "stdout",
          "text": [
            "\n",
            "Updated centroid\n",
            "[[10.         30.        ]\n",
            " [ 9.28571429  9.57142857]]\n",
            "\n",
            "\t\t\t#########################\n",
            "\t\t\t\tIteration 19\n",
            "\t\t\t#########################\n",
            "\n",
            "Cluster 0\n",
            "[[10.]\n",
            " [30.]]\n",
            "\n",
            "Cluster 1\n",
            "[[15.  3. 15.  3. 18.  1. 10.]\n",
            " [10. 10. 12. 14. 13.  7.  1.]]\n",
            "\n"
          ]
        },
        {
          "output_type": "display_data",
          "data": {
            "text/plain": [
              "<Figure size 432x288 with 1 Axes>"
            ],
            "image/png": "[encoded data removed]"
          },
          "metadata": {
            "needs_background": "light"
          }
        },
        {
          "output_type": "stream",
          "name": "stdout",
          "text": [
            "\n",
            "Updated centroid\n",
            "[[10.         30.        ]\n",
            " [ 9.28571429  9.57142857]]\n",
            "\n",
            "\t\t\t#########################\n",
            "\t\t\t\tIteration 20\n",
            "\t\t\t#########################\n",
            "\n",
            "Cluster 0\n",
            "[[10.]\n",
            " [30.]]\n",
            "\n",
            "Cluster 1\n",
            "[[15.  3. 15.  3. 18.  1. 10.]\n",
            " [10. 10. 12. 14. 13.  7.  1.]]\n",
            "\n"
          ]
        },
        {
          "output_type": "display_data",
          "data": {
            "text/plain": [
              "<Figure size 432x288 with 1 Axes>"
            ],
            "image/png": "[encoded data removed]"
          },
          "metadata": {
            "needs_background": "light"
          }
        },
        {
          "output_type": "stream",
          "name": "stdout",
          "text": [
            "\n",
            "Updated centroid\n",
            "[[10.         30.        ]\n",
            " [ 9.28571429  9.57142857]]\n",
            "SSE: {2: [[289.75], [136.75]], 3: [[0.0], [407.1428571428571]]}\n"
          ]
        }
      ]
    },
    {
      "cell_type": "code",
      "source": [
        "generate_output(SSE)"
      ],
      "metadata": {
        "id": "yEmaJlDPQH3a",
        "colab": {
          "base_uri": "https://localhost:8080/"
        },
        "outputId": "c5ef30b2-a735-4144-e002-b61eb2265efb"
      },
      "execution_count": 405,
      "outputs": [
        {
          "output_type": "stream",
          "name": "stdout",
          "text": [
            "2 289.75 136.75 \n",
            "3 0.0 407.1429 \n"
          ]
        }
      ]
    },
    {
      "cell_type": "code",
      "source": [
        "stdoutOrigin=sys.stdout \n",
        "sys.stdout = open(\"test.res\", \"w\")\n",
        "generate_output(SSE)\n",
        "sys.stdout.close()\n",
        "sys.stdout = stdoutOrigin\n"
      ],
      "metadata": {
        "id": "JnKwNUchKvg2"
      },
      "execution_count": 406,
      "outputs": []
    },
    {
      "cell_type": "code",
      "source": [
        "def select_subspace(x, m=2, n=8):\n",
        "    max_x = np.max(x, 0)\n",
        "    min_x = np.min(x, 0)\n",
        "    range_x = max_x - min_x\n",
        "    delta = 0.1 * range_x\n",
        "    print(delta)\n",
        "    grid = np.empty((10, m, n))\n",
        "    for grid_id in range(10):\n",
        "        # print('Grid:', grid_id)\n",
        "        high = (grid_id + 1) * delta\n",
        "        low = grid_id * delta\n",
        "       \n",
        "        for dim in range(m):\n",
        "            grid[grid_id, dim, :] = (x[:, dim] < high[dim]) * (x[:, dim] > low[dim])\n",
        "        # print(grid)\n",
        "    reg_cnt = grid\n",
        "    print(reg_cnt)\n",
        "    # frq_items = apriori(pd.DataFrame(reg_cnt), min_support = 0.2)\n",
        "    # print(frq_items)\n",
        "    return x\n",
        "    "
      ],
      "metadata": {
        "id": "K9FQdysxLeMr"
      },
      "execution_count": 423,
      "outputs": []
    },
    {
      "cell_type": "code",
      "source": [
        "select_subspace(x)"
      ],
      "metadata": {
        "colab": {
          "base_uri": "https://localhost:8080/"
        },
        "id": "-Kdt38ysRD6p",
        "outputId": "1edfcd29-3668-4e32-fa6b-52b3808fdd66"
      },
      "execution_count": 424,
      "outputs": [
        {
          "output_type": "stream",
          "name": "stdout",
          "text": [
            "[1.7 2.9]\n",
            "[[[0. 0. 0. 0. 0. 1. 0. 0.]\n",
            "  [0. 0. 0. 0. 0. 0. 1. 0.]]\n",
            "\n",
            " [[0. 1. 0. 1. 0. 0. 0. 0.]\n",
            "  [0. 0. 0. 0. 0. 0. 0. 0.]]\n",
            "\n",
            " [[0. 0. 0. 0. 0. 0. 0. 0.]\n",
            "  [0. 0. 0. 0. 0. 1. 0. 0.]]\n",
            "\n",
            " [[0. 0. 0. 0. 0. 0. 0. 0.]\n",
            "  [1. 1. 0. 0. 0. 0. 0. 0.]]\n",
            "\n",
            " [[0. 0. 0. 0. 0. 0. 0. 0.]\n",
            "  [0. 0. 1. 1. 1. 0. 0. 0.]]\n",
            "\n",
            " [[0. 0. 0. 0. 0. 0. 1. 1.]\n",
            "  [0. 0. 0. 0. 0. 0. 0. 0.]]\n",
            "\n",
            " [[0. 0. 0. 0. 0. 0. 0. 0.]\n",
            "  [0. 0. 0. 0. 0. 0. 0. 0.]]\n",
            "\n",
            " [[0. 0. 0. 0. 0. 0. 0. 0.]\n",
            "  [0. 0. 0. 0. 0. 0. 0. 0.]]\n",
            "\n",
            " [[1. 0. 1. 0. 0. 0. 0. 0.]\n",
            "  [0. 0. 0. 0. 0. 0. 0. 0.]]\n",
            "\n",
            " [[0. 0. 0. 0. 0. 0. 0. 0.]\n",
            "  [0. 0. 0. 0. 0. 0. 0. 0.]]]\n"
          ]
        }
      ]
    },
    {
      "cell_type": "code",
      "source": [],
      "metadata": {
        "colab": {
          "base_uri": "https://localhost:8080/"
        },
        "id": "pZcKpOJQVQcK",
        "outputId": "181c3b28-fe15-4faf-8c9c-03c54e6f7a92"
      },
      "execution_count": 358,
      "outputs": [
        {
          "output_type": "execute_result",
          "data": {
            "text/plain": [
              "array([[1., 1., 1., 1., 0., 1., 1., 1.],\n",
              "       [1., 1., 1., 1., 1., 1., 1., 0.]])"
            ]
          },
          "metadata": {},
          "execution_count": 358
        }
      ]
    },
    {
      "cell_type": "code",
      "source": [
        "dim = 0\n",
        "high = 3.4\n",
        "low = 1.7\n",
        "# np.all((x[:, dim] < high) * (x[:, dim] > low), axis=0)\n",
        "np.count_nonzero(x[:, dim] < high) * (x[:, dim] > low)"
      ],
      "metadata": {
        "colab": {
          "base_uri": "https://localhost:8080/"
        },
        "id": "hyqzFCVVS3H-",
        "outputId": "778f7a99-2838-4288-a511-9598b3568279"
      },
      "execution_count": 310,
      "outputs": [
        {
          "output_type": "execute_result",
          "data": {
            "text/plain": [
              "array([3, 3, 3, 3, 3, 0, 3, 3])"
            ]
          },
          "metadata": {},
          "execution_count": 310
        }
      ]
    },
    {
      "cell_type": "code",
      "source": [
        "(x[:, dim] < high) * (x[:, dim] > low)"
      ],
      "metadata": {
        "colab": {
          "base_uri": "https://localhost:8080/"
        },
        "id": "FaUCyhreVXFI",
        "outputId": "f33255e5-1010-4a1c-f15d-335120455c14"
      },
      "execution_count": 409,
      "outputs": [
        {
          "output_type": "execute_result",
          "data": {
            "text/plain": [
              "array([False,  True, False,  True, False, False, False, False])"
            ]
          },
          "metadata": {},
          "execution_count": 409
        }
      ]
    },
    {
      "cell_type": "code",
      "source": [
        "(x[:, dim] > low)"
      ],
      "metadata": {
        "colab": {
          "base_uri": "https://localhost:8080/"
        },
        "id": "f9hlr3KfYp94",
        "outputId": "e5e76089-40fc-403a-ceb7-07b9e398576a"
      },
      "execution_count": 301,
      "outputs": [
        {
          "output_type": "execute_result",
          "data": {
            "text/plain": [
              "array([ True,  True,  True,  True,  True, False,  True,  True])"
            ]
          },
          "metadata": {},
          "execution_count": 301
        }
      ]
    },
    {
      "cell_type": "code",
      "source": [],
      "metadata": {
        "id": "PLl1Rg2TYq0Z"
      },
      "execution_count": null,
      "outputs": []
    }
  ]
}